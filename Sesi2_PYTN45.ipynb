{
 "cells": [
  {
   "cell_type": "markdown",
   "metadata": {},
   "source": [
    "# Control Flow"
   ]
  },
  {
   "cell_type": "code",
   "execution_count": 2,
   "metadata": {},
   "outputs": [
    {
     "name": "stdout",
     "output_type": "stream",
     "text": [
      "buy a magazine!\n"
     ]
    }
   ],
   "source": [
    "book_price = 500000\n",
    "magazine_price = 10000\n",
    "money = 20000\n",
    "if money > book_price:\n",
    "    print(\"buy a book!\")\n",
    "elif money > magazine_price:\n",
    "    print(\"buy a magazine!\")\n",
    "else:\n",
    "    print(\"Gather some money first!\")"
   ]
  },
  {
   "cell_type": "code",
   "execution_count": 3,
   "metadata": {},
   "outputs": [
    {
     "name": "stdout",
     "output_type": "stream",
     "text": [
      "buy a magazine!\n"
     ]
    }
   ],
   "source": [
    "book_price = 500000\n",
    "magazine_price = 10000\n",
    "money = 20000\n",
    "\n",
    "is_buy_book = money > book_price\n",
    "is_buy_magazine = money > magazine_price\n",
    "\n",
    "if is_buy_book:\n",
    "    print(\"buy a book!\")\n",
    "elif is_buy_magazine:\n",
    "    print(\"buy a magazine!\")\n",
    "else:\n",
    "    print(\"Gather some money first!\")"
   ]
  },
  {
   "cell_type": "code",
   "execution_count": 4,
   "metadata": {},
   "outputs": [
    {
     "name": "stdout",
     "output_type": "stream",
     "text": [
      "do something!\n"
     ]
    }
   ],
   "source": [
    "is_raining = False\n",
    "if is_raining:\n",
    "    print(\"stay at home\")\n",
    "else:\n",
    "    print(\"do something!\")"
   ]
  },
  {
   "cell_type": "code",
   "execution_count": 5,
   "metadata": {},
   "outputs": [
    {
     "name": "stdout",
     "output_type": "stream",
     "text": [
      "do something\n",
      "student is not valid! Who are you?\n"
     ]
    }
   ],
   "source": [
    "what_to_do = \"stay at home\" if is_raining else \"do something\"\n",
    "print(what_to_do)\n",
    "\n",
    "list_names = [\"eza\", \"idfi\", \"yoanita\", \"windi\"]\n",
    "student = \"josh\"\n",
    "if student in list_names:\n",
    "    print(\"student is valid!\")\n",
    "else:\n",
    "    print(\"student is not valid! Who are you?\")"
   ]
  },
  {
   "cell_type": "code",
   "execution_count": 6,
   "metadata": {},
   "outputs": [
    {
     "name": "stdout",
     "output_type": "stream",
     "text": [
      "True\n",
      "True\n"
     ]
    }
   ],
   "source": [
    "print(\"i\" in \"idfi\")\n",
    "print(\"i\" in \"taniya\")"
   ]
  },
  {
   "cell_type": "markdown",
   "metadata": {},
   "source": [
    "# while loop"
   ]
  },
  {
   "cell_type": "code",
   "execution_count": 12,
   "metadata": {},
   "outputs": [
    {
     "name": "stdout",
     "output_type": "stream",
     "text": [
      "0 eza\n",
      "1 idfi\n",
      "2 yoanita\n",
      "3 windi\n"
     ]
    }
   ],
   "source": [
    "idx = 0\n",
    "while idx < len(list_names):\n",
    "    print(idx, list_names[idx])\n",
    "    idx += 1"
   ]
  },
  {
   "cell_type": "code",
   "execution_count": 9,
   "metadata": {},
   "outputs": [
    {
     "ename": "IndexError",
     "evalue": "list index out of range",
     "output_type": "error",
     "traceback": [
      "\u001b[1;31m---------------------------------------------------------------------------\u001b[0m",
      "\u001b[1;31mIndexError\u001b[0m                                Traceback (most recent call last)",
      "\u001b[1;32m<ipython-input-9-b05ad897bff6>\u001b[0m in \u001b[0;36m<module>\u001b[1;34m\u001b[0m\n\u001b[1;32m----> 1\u001b[1;33m \u001b[0mlist_names\u001b[0m\u001b[1;33m[\u001b[0m\u001b[1;36m4\u001b[0m\u001b[1;33m]\u001b[0m\u001b[1;33m\u001b[0m\u001b[1;33m\u001b[0m\u001b[0m\n\u001b[0m",
      "\u001b[1;31mIndexError\u001b[0m: list index out of range"
     ]
    }
   ],
   "source": [
    "list_names[4]"
   ]
  },
  {
   "cell_type": "code",
   "execution_count": 16,
   "metadata": {},
   "outputs": [
    {
     "name": "stdout",
     "output_type": "stream",
     "text": [
      "processing: eza\n",
      "processing: idfi taniya\n",
      "processing: yoanita\n",
      "processing: windi\n",
      "processing: idfitaniya\n",
      "processing: idfi taniyakusuma\n",
      "taniya in students: ['idfi taniya', 'yoanita', 'idfitaniya', 'idfi taniyakusuma']\n"
     ]
    }
   ],
   "source": [
    "list_names = [\"eza\", \"idfi taniya\", \"yoanita\", \"windi\", \"idfitaniya\", \"idfi taniyakusuma\"]\n",
    "list_taniya = []\n",
    "\n",
    "idx = 0\n",
    "while idx < len(list_names):\n",
    "    student = list_names[idx]\n",
    "    print(\"processing:\", student)\n",
    "    if \"ani\" in student:\n",
    "        list_taniya.append(student)\n",
    "    idx += 1\n",
    "print(\"taniya in students:\", list_taniya)"
   ]
  },
  {
   "cell_type": "code",
   "execution_count": 17,
   "metadata": {},
   "outputs": [
    {
     "name": "stdout",
     "output_type": "stream",
     "text": [
      "[]\n",
      "processing: eza\n",
      "['idfi taniya']\n",
      "processing: idfi taniya\n",
      "['idfi taniya', 'yoanita']\n",
      "processing: yoanita\n",
      "['idfi taniya', 'yoanita']\n",
      "processing: windi\n",
      "['idfi taniya', 'yoanita', 'idfitaniya']\n",
      "processing: idfitaniya\n",
      "['idfi taniya', 'yoanita', 'idfitaniya', 'idfi taniyakusuma']\n",
      "processing: idfi taniyakusuma\n",
      "taniya in students: ['idfi taniya', 'yoanita', 'idfitaniya', 'idfi taniyakusuma']\n"
     ]
    }
   ],
   "source": [
    "list_names = [\"eza\", \"idfi taniya\", \"yoanita\", \"windi\", \"idfitaniya\", \"idfi taniyakusuma\"]\n",
    "list_taniya = []\n",
    "\n",
    "idx = 0\n",
    "while idx < len(list_names):\n",
    "    student = list_names[idx]\n",
    "    if \"ani\" in student:\n",
    "        list_taniya.append(student)\n",
    "    print(list_taniya)\n",
    "    print(\"processing:\", student)\n",
    "    idx += 1\n",
    "print(\"taniya in students:\", list_taniya)"
   ]
  },
  {
   "cell_type": "code",
   "execution_count": 19,
   "metadata": {},
   "outputs": [
    {
     "name": "stdout",
     "output_type": "stream",
     "text": [
      "processing: eza\n",
      "processing: windi\n",
      "taniya in students: ['idfi taniya', 'yoanita', 'idfitaniya', 'idfi taniyakusuma']\n"
     ]
    }
   ],
   "source": [
    "list_names = [\"eza\", \"idfi taniya\", \"yoanita\", \"windi\", \"idfitaniya\", \"idfi taniyakusuma\"]\n",
    "list_taniya = []\n",
    "\n",
    "idx = 0\n",
    "while idx < len(list_names):\n",
    "    student = list_names[idx]\n",
    "    if \"ani\" in student:\n",
    "        list_taniya.append(student)\n",
    "        idx += 1\n",
    "        continue\n",
    "    print(\"processing:\", student)\n",
    "    idx += 1\n",
    "print(\"taniya in students:\", list_taniya)"
   ]
  },
  {
   "cell_type": "code",
   "execution_count": 21,
   "metadata": {},
   "outputs": [
    {
     "name": "stdout",
     "output_type": "stream",
     "text": [
      "processing: eza\n",
      "processing: windi\n",
      "taniya in students: ['idfi taniya', 'yoanita', 'idfitaniya', 'idfi taniyakusuma']\n"
     ]
    }
   ],
   "source": [
    "list_names = [\"eza\", \"idfi taniya\", \"yoanita\", \"windi\", \"idfitaniya\", \"idfi taniyakusuma\"]\n",
    "list_taniya = []\n",
    "\n",
    "idx = 0\n",
    "while idx < len(list_names):\n",
    "    student = list_names[idx]\n",
    "    idx += 1\n",
    "    if \"ani\" in student:\n",
    "        list_taniya.append(student)    \n",
    "        continue\n",
    "    print(\"processing:\", student)\n",
    "\n",
    "print(\"taniya in students:\", list_taniya)"
   ]
  },
  {
   "cell_type": "code",
   "execution_count": 23,
   "metadata": {},
   "outputs": [
    {
     "name": "stdout",
     "output_type": "stream",
     "text": [
      "processing: eza\n",
      "taniya in students: ['idfi tAniya']\n"
     ]
    }
   ],
   "source": [
    "list_names = [\"eza\", \"idfi tAniya\", \"yoanita\", \"windi\", \"idfitaniya\", \"idfi taniyakusuma\"]\n",
    "list_taniya = []\n",
    "\n",
    "idx = 0\n",
    "while idx < len(list_names):\n",
    "    student = list_names[idx]\n",
    "    idx += 1\n",
    "    if \"ani\" in student.lower():  #normalize menggunakan student.lower()\n",
    "        list_taniya.append(student)    \n",
    "        break\n",
    "    print(\"processing:\", student)\n",
    "\n",
    "print(\"taniya in students:\", list_taniya)"
   ]
  },
  {
   "cell_type": "markdown",
   "metadata": {},
   "source": [
    "# For Loop"
   ]
  },
  {
   "cell_type": "code",
   "execution_count": 24,
   "metadata": {},
   "outputs": [
    {
     "name": "stdout",
     "output_type": "stream",
     "text": [
      "eza\n",
      "idfi tAniya\n",
      "yoanita\n",
      "windi\n",
      "idfitaniya\n",
      "idfi taniyakusuma\n"
     ]
    }
   ],
   "source": [
    "for student in list_names:\n",
    "    print(student)"
   ]
  },
  {
   "cell_type": "code",
   "execution_count": 28,
   "metadata": {},
   "outputs": [
    {
     "name": "stdout",
     "output_type": "stream",
     "text": [
      "taniya not found in eza\n",
      "taniya not found in yoanita\n",
      "taniya not found in windi\n",
      "['idfi tAniya', 'idfitaniya', 'idfi taniyakusuma']\n"
     ]
    }
   ],
   "source": [
    "list_taniya = list()\n",
    "for student in list_names:\n",
    "    if \"taniya\" in student.lower():\n",
    "        list_taniya.append(student)\n",
    "        continue\n",
    "    print(f\"taniya not found in {student}\")\n",
    "    #print(\"taniya not found in\", student)\n",
    "print(list_taniya)"
   ]
  },
  {
   "cell_type": "code",
   "execution_count": 31,
   "metadata": {},
   "outputs": [
    {
     "name": "stdout",
     "output_type": "stream",
     "text": [
      "0 eza .. sama aja dengan: eza\n",
      "1 idfi tAniya .. sama aja dengan: idfi tAniya\n",
      "2 yoanita .. sama aja dengan: yoanita\n",
      "3 windi .. sama aja dengan: windi\n",
      "4 idfitaniya .. sama aja dengan: idfitaniya\n",
      "5 idfi taniyakusuma .. sama aja dengan: idfi taniyakusuma\n"
     ]
    }
   ],
   "source": [
    "for idx, value in enumerate(list_names):\n",
    "    print(idx, value, \".. sama aja dengan:\", list_names[idx])"
   ]
  },
  {
   "cell_type": "code",
   "execution_count": 32,
   "metadata": {},
   "outputs": [
    {
     "name": "stdout",
     "output_type": "stream",
     "text": [
      "0 .. sama aja dengan: eza\n",
      "1 .. sama aja dengan: idfi tAniya\n",
      "2 .. sama aja dengan: yoanita\n",
      "3 .. sama aja dengan: windi\n",
      "4 .. sama aja dengan: idfitaniya\n",
      "5 .. sama aja dengan: idfi taniyakusuma\n"
     ]
    }
   ],
   "source": [
    "for idx, _ in enumerate(list_names):\n",
    "    print(idx, \".. sama aja dengan:\", list_names[idx])"
   ]
  },
  {
   "cell_type": "code",
   "execution_count": 37,
   "metadata": {},
   "outputs": [
    {
     "name": "stdout",
     "output_type": "stream",
     "text": [
      "2020 Agustus 1\n",
      "2020 Agustus 2\n",
      "2020 Agustus 3\n",
      "2020 Agustus 4\n",
      "2020 Agustus 5\n",
      "2020 Agustus 6\n",
      "2020 Agustus 7\n",
      "2020 Agustus 8\n",
      "2020 Agustus 9\n",
      "2020 Agustus 10\n",
      "2020 Agustus 11\n",
      "2020 Agustus 12\n",
      "2020 Agustus 13\n",
      "2020 Agustus 14\n",
      "2020 Agustus 15\n",
      "2020 Agustus 16\n",
      "2020 Agustus 17\n",
      "2020 Agustus 18\n",
      "2020 Agustus 19\n",
      "2020 Agustus 20\n",
      "2020 Agustus 21\n",
      "2020 Agustus 22\n",
      "2020 Agustus 23\n",
      "2020 Agustus 24\n",
      "2020 Agustus 25\n",
      "2020 Agustus 26\n",
      "2020 Agustus 27\n",
      "2020 Agustus 28\n",
      "2020 Agustus 29\n",
      "2020 Agustus 30\n",
      "2020 Agustus 31\n"
     ]
    }
   ],
   "source": [
    "dates = \"2020-08-01\"\n",
    "for day in range (1, 32):\n",
    "    print(str(year) + \" \"+ month + \" \"+ str(day))"
   ]
  },
  {
   "cell_type": "code",
   "execution_count": 36,
   "metadata": {},
   "outputs": [],
   "source": [
    "month = \"Agustus\"\n",
    "year = 2020\n",
    "day = 1\n"
   ]
  },
  {
   "cell_type": "code",
   "execution_count": 42,
   "metadata": {},
   "outputs": [
    {
     "name": "stdout",
     "output_type": "stream",
     "text": [
      "2020-08-01\n",
      "2020-09-01\n",
      "2020-08-01\n",
      "2020-10-01\n",
      "2020-08-01\n",
      "2020-11-01\n",
      "2020-08-01\n",
      "2020-12-01\n",
      "2020-08-01\n",
      "2020-13-01\n"
     ]
    }
   ],
   "source": [
    "dates = \"2020-08-01\"\n",
    "month = int(list(dates.split(\"-\")[1])[-1])\n",
    "\n",
    "while month <= 12:\n",
    "    #dates = list(dates.split(\"-\")[1])\n",
    "    print(dates)\n",
    "    month += 1\n",
    "    if month < 10:\n",
    "        print(\"2020-0\" + str(month) +\"-01\")\n",
    "    else:\n",
    "        print(\"2020-\" + str(month) + \"-01\")    \n",
    "    #print(month)"
   ]
  }
 ],
 "metadata": {
  "kernelspec": {
   "display_name": "Python 3",
   "language": "python",
   "name": "python3"
  },
  "language_info": {
   "codemirror_mode": {
    "name": "ipython",
    "version": 3
   },
   "file_extension": ".py",
   "mimetype": "text/x-python",
   "name": "python",
   "nbconvert_exporter": "python",
   "pygments_lexer": "ipython3",
   "version": "3.8.3"
  }
 },
 "nbformat": 4,
 "nbformat_minor": 4
}
