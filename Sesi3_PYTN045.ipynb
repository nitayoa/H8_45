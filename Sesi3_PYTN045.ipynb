{
 "cells": [
  {
   "cell_type": "markdown",
   "metadata": {},
   "source": [
    "# Modularity in Python\n",
    "Function and/or methods\n",
    "modules \n",
    "packages"
   ]
  },
  {
   "cell_type": "code",
   "execution_count": 7,
   "metadata": {},
   "outputs": [],
   "source": [
    "def cylinder_volume(height, radius):\n",
    "    \"\"\"computes volume of a cylinder.\"\"\"\n",
    "    volume = 3.14 * radius**2 * height\n",
    "    return volume\n",
    "\n",
    "def show_cylinder_volume(height, radius):\n",
    "    \"\"\"show volume of a cylinder.\"\"\"\n",
    "    volume = 3.14 * radius**2 * height\n",
    "    print(volume)"
   ]
  },
  {
   "cell_type": "code",
   "execution_count": 8,
   "metadata": {},
   "outputs": [
    {
     "name": "stdout",
     "output_type": "stream",
     "text": [
      "volume: 2198.0\n",
      "volume: 3140.0\n",
      "2198.0\n",
      "volume: None\n"
     ]
    }
   ],
   "source": [
    "vol_1 = cylinder_volume(7,10)\n",
    "print(\"volume:\", vol_1)\n",
    "\n",
    "vol_2 = cylinder_volume(10,10)\n",
    "print(\"volume:\", vol_2)\n",
    "\n",
    "vol_2 = show_cylinder_volume(7,10)\n",
    "print(\"volume:\", vol_2)"
   ]
  },
  {
   "cell_type": "code",
   "execution_count": 9,
   "metadata": {},
   "outputs": [],
   "source": [
    "def filter_data(data, criteria):\n",
    "    filtered_data = {}\n",
    "    for item in data:\n",
    "        if criteria in item.lower():\n",
    "            filtered_data[str(data.index(item))] = item\n",
    "    return filtered_data"
   ]
  },
  {
   "cell_type": "code",
   "execution_count": 12,
   "metadata": {},
   "outputs": [
    {
     "data": {
      "text/plain": [
       "{'1': 'idfitaniya', '5': 'idfi taniya'}"
      ]
     },
     "execution_count": 12,
     "metadata": {},
     "output_type": "execute_result"
    }
   ],
   "source": [
    "list_names =[\"eza\", \"idfitaniya\", \"yoanita\",\"septy\",\"windi\",\"idfi taniya\"]\n",
    "filter_data(list_names,\"taniya\")"
   ]
  },
  {
   "cell_type": "code",
   "execution_count": 13,
   "metadata": {},
   "outputs": [
    {
     "data": {
      "text/plain": [
       "{'1': 'idfitaniya', '2': 'yoanita', '5': 'idfi taniya'}"
      ]
     },
     "execution_count": 13,
     "metadata": {},
     "output_type": "execute_result"
    }
   ],
   "source": [
    "filter_data(list_names,\"ani\")"
   ]
  },
  {
   "cell_type": "code",
   "execution_count": 14,
   "metadata": {},
   "outputs": [
    {
     "data": {
      "text/plain": [
       "{'1': 'idfitaniya', '5': 'idfi taniya'}"
      ]
     },
     "execution_count": 14,
     "metadata": {},
     "output_type": "execute_result"
    }
   ],
   "source": [
    "filter_data(criteria=\"taniya\", data=list_names)"
   ]
  },
  {
   "cell_type": "code",
   "execution_count": 15,
   "metadata": {},
   "outputs": [
    {
     "ename": "TypeError",
     "evalue": "filter_data() missing 1 required positional argument: 'criteria'",
     "output_type": "error",
     "traceback": [
      "\u001b[1;31m---------------------------------------------------------------------------\u001b[0m",
      "\u001b[1;31mTypeError\u001b[0m                                 Traceback (most recent call last)",
      "\u001b[1;32m<ipython-input-15-309e99f2812e>\u001b[0m in \u001b[0;36m<module>\u001b[1;34m\u001b[0m\n\u001b[1;32m----> 1\u001b[1;33m \u001b[0mfilter_data\u001b[0m\u001b[1;33m(\u001b[0m\u001b[0mlist_names\u001b[0m\u001b[1;33m)\u001b[0m\u001b[1;33m\u001b[0m\u001b[1;33m\u001b[0m\u001b[0m\n\u001b[0m",
      "\u001b[1;31mTypeError\u001b[0m: filter_data() missing 1 required positional argument: 'criteria'"
     ]
    }
   ],
   "source": [
    "filter_data(list_names)"
   ]
  },
  {
   "cell_type": "code",
   "execution_count": 20,
   "metadata": {},
   "outputs": [
    {
     "name": "stdout",
     "output_type": "stream",
     "text": [
      "1 2 3 4 5 6 7 8 9 10\n",
      "1..2..3..4..5..6..7..8..9..10==1..2..3..4..5..6..7..8..9..10\n",
      "1//2//3//4//5//6//7//8//9//10\n"
     ]
    }
   ],
   "source": [
    "print(1, 2, 3, 4, 5, 6, 7, 8, 9, 10)\n",
    "print(1, 2, 3, 4, 5, 6, 7, 8, 9, 10, sep=\"..\", end = \"==\") #sbg baris baru di python\n",
    "print(1, 2, 3, 4, 5, 6, 7, 8, 9, 10, sep=\"..\")\n",
    "print(1, 2, 3, 4, 5, 6, 7, 8, 9, 10, sep=\"//\")"
   ]
  },
  {
   "cell_type": "code",
   "execution_count": 35,
   "metadata": {},
   "outputs": [],
   "source": [
    "string = \"\"\n",
    "\n",
    "def show_all(*names, sep=\" \", string=string):\n",
    "    for name in names:\n",
    "        string += name + sep\n",
    "        string += sep\n",
    "    return string[:-1]\n",
    "\n",
    "def shows(sep, *names, string=string):\n",
    "    for name in names:\n",
    "        string += name\n",
    "        string += sep\n",
    "    return string[:-1]"
   ]
  },
  {
   "cell_type": "code",
   "execution_count": 28,
   "metadata": {},
   "outputs": [
    {
     "data": {
      "text/plain": [
       "'idfi  taniya  yoanita  eza  kusuma  windi '"
      ]
     },
     "execution_count": 28,
     "metadata": {},
     "output_type": "execute_result"
    }
   ],
   "source": [
    "show_all(\"idfi\", \"taniya\", \"yoanita\", \"eza\", \"kusuma\", \"windi\")"
   ]
  },
  {
   "cell_type": "code",
   "execution_count": 37,
   "metadata": {},
   "outputs": [
    {
     "data": {
      "text/plain": [
       "'idfi taniya yoanita eza kusuma windi'"
      ]
     },
     "execution_count": 37,
     "metadata": {},
     "output_type": "execute_result"
    }
   ],
   "source": [
    "shows(\" \", \"idfi\", \"taniya\", \"yoanita\", \"eza\", \"kusuma\", \"windi\")"
   ]
  },
  {
   "cell_type": "code",
   "execution_count": 40,
   "metadata": {},
   "outputs": [],
   "source": [
    "def jumlah(x,y):\n",
    "    return x+y\n",
    "\n",
    "jum = lambda arg1, arg2: arg1 + arg2"
   ]
  },
  {
   "cell_type": "code",
   "execution_count": 41,
   "metadata": {},
   "outputs": [
    {
     "name": "stdout",
     "output_type": "stream",
     "text": [
      "20\n",
      "20\n"
     ]
    }
   ],
   "source": [
    "jumlah_1 = jumlah(10,10)\n",
    "print(jumlah_1)\n",
    "\n",
    "jumlah_2 = jum(10,10)\n",
    "print(jumlah_2)"
   ]
  },
  {
   "cell_type": "markdown",
   "metadata": {},
   "source": [
    "# Modules"
   ]
  },
  {
   "cell_type": "code",
   "execution_count": 5,
   "metadata": {},
   "outputs": [],
   "source": [
    "#import process                ##restart kernel\n",
    "#from process import filter_data\n",
    "import process as p"
   ]
  },
  {
   "cell_type": "code",
   "execution_count": 11,
   "metadata": {},
   "outputs": [],
   "source": [
    "list_names =[\"eza\", \"idfitaniya\", \"yoanita\",\"septy\",\"windi\",\"idfi taniya\"]"
   ]
  },
  {
   "cell_type": "code",
   "execution_count": 8,
   "metadata": {},
   "outputs": [
    {
     "data": {
      "text/plain": [
       "{'1': 'idfitaniya', '2': 'yoanita', '5': 'idfi taniya'}"
      ]
     },
     "execution_count": 8,
     "metadata": {},
     "output_type": "execute_result"
    }
   ],
   "source": [
    "p.filter_data(list_names, criteria=\"an\")"
   ]
  },
  {
   "cell_type": "markdown",
   "metadata": {},
   "source": [
    "# packages"
   ]
  },
  {
   "cell_type": "code",
   "execution_count": 16,
   "metadata": {},
   "outputs": [],
   "source": [
    "#import hacktiv.process\n",
    "#import hacktiv.model\n",
    "from hacktiv.model import model"
   ]
  },
  {
   "cell_type": "code",
   "execution_count": 15,
   "metadata": {},
   "outputs": [
    {
     "data": {
      "text/plain": [
       "{'1': 'idfitaniya', '5': 'idfi taniya'}"
      ]
     },
     "execution_count": 15,
     "metadata": {},
     "output_type": "execute_result"
    }
   ],
   "source": [
    "hacktiv.process.filter_data(list_names, criteria=\"idfi\")"
   ]
  },
  {
   "cell_type": "code",
   "execution_count": 17,
   "metadata": {},
   "outputs": [
    {
     "data": {
      "text/plain": [
       "'this is model'"
      ]
     },
     "execution_count": 17,
     "metadata": {},
     "output_type": "execute_result"
    }
   ],
   "source": [
    "hacktiv.model.model"
   ]
  }
 ],
 "metadata": {
  "kernelspec": {
   "display_name": "Python 3",
   "language": "python",
   "name": "python3"
  },
  "language_info": {
   "codemirror_mode": {
    "name": "ipython",
    "version": 3
   },
   "file_extension": ".py",
   "mimetype": "text/x-python",
   "name": "python",
   "nbconvert_exporter": "python",
   "pygments_lexer": "ipython3",
   "version": "3.8.3"
  }
 },
 "nbformat": 4,
 "nbformat_minor": 4
}
