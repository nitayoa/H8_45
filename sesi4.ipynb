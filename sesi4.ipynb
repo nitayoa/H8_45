{
 "cells": [
  {
   "cell_type": "markdown",
   "metadata": {},
   "source": [
    "# introduction to numpy"
   ]
  },
  {
   "cell_type": "code",
   "execution_count": 1,
   "metadata": {},
   "outputs": [],
   "source": [
    "import numpy as np"
   ]
  },
  {
   "cell_type": "code",
   "execution_count": 2,
   "metadata": {},
   "outputs": [
    {
     "name": "stdout",
     "output_type": "stream",
     "text": [
      "numpy version 1.18.5\n"
     ]
    }
   ],
   "source": [
    "print(\"numpy version\", np.__version__)"
   ]
  },
  {
   "cell_type": "code",
   "execution_count": 11,
   "metadata": {},
   "outputs": [
    {
     "name": "stdout",
     "output_type": "stream",
     "text": [
      "[[1 2 3]\n",
      " [4 5 6]]\n",
      "type: <class 'numpy.ndarray'> shape (2, 3)\n",
      "axis 0: 2 axis 1: 3\n",
      "[0.1 0.2 0.3 0.4]\n",
      "type: <class 'numpy.ndarray'> shape (4,)\n",
      "axis 0: 4\n",
      "[[[1 2]\n",
      "  [3 4]]\n",
      "\n",
      " [[5 6]\n",
      "  [7 8]]]\n"
     ]
    }
   ],
   "source": [
    "#define array using np.array\n",
    "arr_int = np.array([[1,2,3], [4,5,6]])\n",
    "print(arr_int)\n",
    "print(\"type:\", type(arr_int),\"shape\",arr_int.shape)\n",
    "print(\"axis 0:\", arr_int.shape[0],\"axis 1:\", arr_int.shape[1])\n",
    "\n",
    "arr1d_float = np.array([.1, .2, .3, .4])\n",
    "print(arr1d_float)\n",
    "print(\"type:\", type(arr1d_float),\"shape\",arr1d_float.shape)\n",
    "print(\"axis 0:\", arr1d_float.shape[0])\n",
    "\n",
    "arr3d_int = np.array([[[1,2], [3,4]], [[5,6],[7,8]]])\n",
    "print(arr3d_int)"
   ]
  },
  {
   "cell_type": "code",
   "execution_count": 4,
   "metadata": {},
   "outputs": [
    {
     "name": "stdout",
     "output_type": "stream",
     "text": [
      "[[1, 2, 3], [4, 5, 6]]\n"
     ]
    }
   ],
   "source": [
    "print([[1,2,3], [4,5,6]])"
   ]
  },
  {
   "cell_type": "code",
   "execution_count": 20,
   "metadata": {},
   "outputs": [
    {
     "name": "stdout",
     "output_type": "stream",
     "text": [
      "[[0 0 0]\n",
      " [0 0 0]] int32 <class 'numpy.ndarray'>\n",
      "[[1. 1. 1. 1.]\n",
      " [1. 1. 1. 1.]] float64 <class 'numpy.ndarray'> (2, 4)\n",
      "[1 3 5 7 9] int32 <class 'numpy.ndarray'> (5,)\n",
      "[[1.02055226e-311 1.02054554e-311 6.95187041e-310 ...             nan\n",
      "              nan             nan]\n",
      " [3.91612999e-306 1.16657952e-301 2.73456188e-304 ...             nan\n",
      "              nan 4.50155003e-294]\n",
      " [            nan             nan             nan ... 1.93774906e-304\n",
      "              nan             nan]\n",
      " ...\n",
      " [0.00000000e+000 0.00000000e+000 0.00000000e+000 ... 0.00000000e+000\n",
      "  0.00000000e+000 0.00000000e+000]\n",
      " [0.00000000e+000 0.00000000e+000 0.00000000e+000 ... 0.00000000e+000\n",
      "  0.00000000e+000 0.00000000e+000]\n",
      " [0.00000000e+000 0.00000000e+000 0.00000000e+000 ... 0.00000000e+000\n",
      "  0.00000000e+000 0.00000000e+000]] float64\n"
     ]
    }
   ],
   "source": [
    "arr_zeros = np.zeros((2,3) ,dtype=\"int32\")\n",
    "print(arr_zeros, arr_zeros.dtype, type(arr_zeros))\n",
    "\n",
    "arr_ones = np.ones((2,4))\n",
    "print(arr_ones, arr_ones.dtype, type(arr_ones), arr_ones.shape)\n",
    "\n",
    "arr_arange = np.arange(1, 10, 2)\n",
    "print(arr_arange, arr_arange.dtype, type(arr_arange), arr_arange.shape)\n",
    "\n",
    "arr_empty = np.empty((100,100))\n",
    "print(arr_empty, arr_empty.dtype)"
   ]
  },
  {
   "cell_type": "code",
   "execution_count": 26,
   "metadata": {},
   "outputs": [
    {
     "name": "stdout",
     "output_type": "stream",
     "text": [
      "list: [[1, 2, 3], [4, 5, 6]]\n",
      "array: [[1 2 3]\n",
      " [4 5 6]]\n",
      "1\n",
      "1 [1 2]\n",
      "[[6 5 4]\n",
      " [3 2 1]]\n"
     ]
    }
   ],
   "source": [
    "dummy_list = [[1,2,3], [4,5,6]]\n",
    "print(\"list:\", dummy_list)\n",
    "print(\"array:\", arr_int)\n",
    "\n",
    "#indexing\n",
    "print(dummy_list[0][0])\n",
    "print(arr_int[0,0], arr_int[0, :2])\n",
    "print(arr_int[::-1, ::-1])"
   ]
  },
  {
   "cell_type": "code",
   "execution_count": 27,
   "metadata": {},
   "outputs": [
    {
     "name": "stdout",
     "output_type": "stream",
     "text": [
      "num of dimension: 2\n",
      "num of dimension 3\n",
      "total items 6\n",
      "total items 3\n"
     ]
    }
   ],
   "source": [
    "#ndim and size of ndarray\n",
    "print(\"num of dimension:\", arr_int.ndim)\n",
    "print(\"num of dimension\", arr3d_int.ndim)\n",
    "\n",
    "print(\"total items\", arr_int.size)\n",
    "print(\"total items\", arr3d_int.ndim)"
   ]
  },
  {
   "cell_type": "code",
   "execution_count": 29,
   "metadata": {},
   "outputs": [
    {
     "name": "stdout",
     "output_type": "stream",
     "text": [
      "before flatten: [[1 2 3]\n",
      " [4 5 6]]\n",
      "after flatten [1 2 3 4 5 6]\n"
     ]
    }
   ],
   "source": [
    "#flatten\n",
    "print(\"before flatten:\", arr_int)\n",
    "print(\"after flatten\", arr_int.flatten())"
   ]
  },
  {
   "cell_type": "code",
   "execution_count": 32,
   "metadata": {},
   "outputs": [
    {
     "name": "stdout",
     "output_type": "stream",
     "text": [
      "[ 0.1  0.2  0.3  0.4 10.  11.  12. ]\n",
      "[[ 1  2  3]\n",
      " [ 4  5  6]\n",
      " [10 11 12]]\n"
     ]
    }
   ],
   "source": [
    "#append and delete\n",
    "print(np.append(arr1d_float, [10,11,12]))\n",
    "print(np.append(arr_int, [[10,11,12]], axis =0))"
   ]
  },
  {
   "cell_type": "code",
   "execution_count": 40,
   "metadata": {},
   "outputs": [
    {
     "name": "stdout",
     "output_type": "stream",
     "text": [
      "[ 0.1  0.2  0.3  0.4 10.  11.  12. ]\n",
      "[[ 1  2  3]\n",
      " [ 4  5  6]\n",
      " [10 11 12]]\n",
      "[[ 1  2  3 10]\n",
      " [ 4  5  6 11]]\n",
      "[[1 2 3]\n",
      " [4 5 6]\n",
      " [1 2 3]\n",
      " [4 5 6]]\n",
      "[[1 2 3 1 2 3]\n",
      " [4 5 6 4 5 6]]\n",
      "[[1 2 3 1 2 3 1 2 3]\n",
      " [4 5 6 4 5 6 4 5 6]]\n",
      "[[1 2 3]\n",
      " [4 5 6]\n",
      " [0 0 0]\n",
      " [0 0 0]]\n"
     ]
    }
   ],
   "source": [
    "#append and delete\n",
    "print(np.append(arr1d_float,[10,11,12]))\n",
    "print(np.append(arr_int, [[10,11,12]], axis=0))\n",
    "print(np.append(arr_int, [[10],[11]], axis =1))\n",
    "print(np.append(arr_int, arr_int, axis =0))\n",
    "print(np.append(arr_int, arr_int, axis =1))\n",
    "\n",
    "print(np.concatenate([arr_int, arr_int, arr_int], axis=1))\n",
    "print(np.concatenate([arr_int, arr_zeros], axis =0))"
   ]
  },
  {
   "cell_type": "code",
   "execution_count": 42,
   "metadata": {},
   "outputs": [
    {
     "name": "stdout",
     "output_type": "stream",
     "text": [
      "[[[1 2]\n",
      "  [3 4]]\n",
      "\n",
      " [[5 6]\n",
      "  [7 8]]]\n",
      "[[[1 2]\n",
      "  [3 4]]]\n",
      "[[[1 2]]\n",
      "\n",
      " [[5 6]]]\n"
     ]
    }
   ],
   "source": [
    "print(arr3d_int)\n",
    "print(np.delete(arr3d_int, 1, axis=0))\n",
    "print(np.delete(arr3d_int, -1, axis =1))"
   ]
  },
  {
   "cell_type": "code",
   "execution_count": 47,
   "metadata": {},
   "outputs": [
    {
     "name": "stdout",
     "output_type": "stream",
     "text": [
      "[[[1 2]\n",
      "  [3 4]]\n",
      "\n",
      " [[5 6]\n",
      "  [7 8]]]\n"
     ]
    }
   ],
   "source": [
    "#reshape\n",
    "print(arr3d_int)\n",
    "#print(np.reshape(arr3d_int, (3, 4)))"
   ]
  },
  {
   "cell_type": "code",
   "execution_count": 48,
   "metadata": {},
   "outputs": [
    {
     "name": "stdout",
     "output_type": "stream",
     "text": [
      "[[1 2]\n",
      " [3 4]\n",
      " [5 6]\n",
      " [7 8]\n",
      " [1 2]]\n"
     ]
    }
   ],
   "source": [
    "print(np.resize(arr3d_int, (5,2)))"
   ]
  },
  {
   "cell_type": "code",
   "execution_count": 53,
   "metadata": {},
   "outputs": [
    {
     "name": "stdout",
     "output_type": "stream",
     "text": [
      "(4,)\n",
      "[[0.1]\n",
      " [0.2]\n",
      " [0.3]\n",
      " [0.4]] (4, 1)\n",
      "[[0.1 0.2 0.3 0.4]]\n",
      "(2, 2, 2, 1)\n",
      "(2, 1, 2, 2)\n"
     ]
    }
   ],
   "source": [
    "print(arr1d_float.shape)\n",
    "\n",
    "arr2d_float = arr1d_float[:, np.newaxis]\n",
    "print(arr2d_float, arr2d_float.shape)\n",
    "print(arr1d_float[None])\n",
    "\n",
    "print(arr3d_int[:,:,:,np.newaxis].shape)\n",
    "print(arr3d_int[:, np.newaxis, :].shape)"
   ]
  },
  {
   "cell_type": "code",
   "execution_count": 54,
   "metadata": {},
   "outputs": [
    {
     "name": "stdout",
     "output_type": "stream",
     "text": [
      "[[1 2 3]\n",
      " [4 5 6]]\n",
      "[[1 4]\n",
      " [2 5]\n",
      " [3 6]]\n",
      "[[1 2]\n",
      " [3 4]\n",
      " [5 6]]\n"
     ]
    }
   ],
   "source": [
    "#transpose\n",
    "print(arr_int)\n",
    "print(arr_int.T)\n",
    "print(arr_int.reshape(arr_int.shape[1], arr_int.shape[0]))"
   ]
  },
  {
   "cell_type": "code",
   "execution_count": 58,
   "metadata": {},
   "outputs": [
    {
     "name": "stdout",
     "output_type": "stream",
     "text": [
      "[[1, 2, 3], [4, 5, 6], [1, 2, 3], [4, 5, 6]]\n",
      "[[ 2  4  6]\n",
      " [ 8 10 12]]\n",
      "[[[10 20]\n",
      "  [30 40]]\n",
      "\n",
      " [[50 60]\n",
      "  [70 80]]]\n",
      "[0.01 0.04 0.09 0.16]\n"
     ]
    }
   ],
   "source": [
    "#mathematics operation\n",
    "print(dummy_list + dummy_list)\n",
    "print(arr_int + arr_int)\n",
    "print(arr3d_int*10)\n",
    "print(arr1d_float * arr1d_float)"
   ]
  },
  {
   "cell_type": "code",
   "execution_count": 59,
   "metadata": {},
   "outputs": [
    {
     "name": "stdout",
     "output_type": "stream",
     "text": [
      "[0.1 0.2 0.3 0.4] [0.1 0.2 0.3 0.4]\n",
      "0.30000000000000004\n",
      "[[[10 20]\n",
      "  [30 40]]\n",
      "\n",
      " [[50 60]\n",
      "  [70 80]]]\n"
     ]
    }
   ],
   "source": [
    "print(arr1d_float, arr1d_float)\n",
    "print(np.dot(arr1d_float, arr1d_float))\n",
    "print(np.dot(arr3d_int,10))"
   ]
  },
  {
   "cell_type": "code",
   "execution_count": 64,
   "metadata": {},
   "outputs": [
    {
     "name": "stdout",
     "output_type": "stream",
     "text": [
      "[[5 8 9]\n",
      " [5 0 0]]\n",
      "[[0.39658073 0.38791074 0.66974604 0.93553907 0.84631092 0.31327352\n",
      "  0.52454816 0.44345289 0.22957721 0.53441391]\n",
      " [0.91396202 0.45720481 0.43069857 0.93912779 0.77838924 0.71597052\n",
      "  0.8027575  0.09280081 0.51815255 0.86502025]\n",
      " [0.82914691 0.82960336 0.27304997 0.0592432  0.67052804 0.59306552\n",
      "  0.6716541  0.41178788 0.1975509  0.28962964]\n",
      " [0.14212014 0.78331447 0.41253884 0.03417131 0.62402999 0.66063573\n",
      "  0.29849529 0.44613451 0.22212455 0.07336417]\n",
      " [0.46923853 0.09617226 0.90337017 0.11949047 0.52479938 0.083623\n",
      "  0.91686133 0.91044838 0.29893011 0.58438912]\n",
      " [0.56591203 0.61393832 0.95653566 0.26097898 0.23101542 0.53344849\n",
      "  0.94993814 0.49305959 0.54060051 0.7654851 ]\n",
      " [0.04534573 0.13996612 0.79240359 0.02980136 0.88312548 0.54078819\n",
      "  0.44798018 0.89213587 0.37758434 0.53842469]\n",
      " [0.65229888 0.36126102 0.57100856 0.63783648 0.12631489 0.69020459\n",
      "  0.6477494  0.35393909 0.76323305 0.35653172]\n",
      " [0.75278835 0.88134183 0.01166919 0.49810907 0.07379201 0.78695147\n",
      "  0.06406733 0.35531036 0.94183695 0.37980329]\n",
      " [0.76292007 0.771595   0.3013605  0.77273915 0.15292982 0.57863393\n",
      "  0.009008   0.70904252 0.47064081 0.76459257]]\n",
      "-1.7290888221556728\n",
      "[[-1.44074475]\n",
      " [ 2.93079609]\n",
      " [13.47796373]\n",
      " [ 0.50679496]\n",
      " [-6.70347919]]\n"
     ]
    }
   ],
   "source": [
    "np.random.seed(1) #seed agar random sama\n",
    "print(np.random.randint(10,size=(2,3)))\n",
    "print(np.random.uniform(size=(10,10)))\n",
    "print(np.random.randn())\n",
    "print(np.random.normal(1., 10, size=(5,1)))"
   ]
  },
  {
   "cell_type": "code",
   "execution_count": null,
   "metadata": {},
   "outputs": [],
   "source": []
  },
  {
   "cell_type": "code",
   "execution_count": null,
   "metadata": {},
   "outputs": [],
   "source": []
  },
  {
   "cell_type": "code",
   "execution_count": null,
   "metadata": {},
   "outputs": [],
   "source": []
  }
 ],
 "metadata": {
  "kernelspec": {
   "display_name": "Python 3",
   "language": "python",
   "name": "python3"
  },
  "language_info": {
   "codemirror_mode": {
    "name": "ipython",
    "version": 3
   },
   "file_extension": ".py",
   "mimetype": "text/x-python",
   "name": "python",
   "nbconvert_exporter": "python",
   "pygments_lexer": "ipython3",
   "version": "3.8.3"
  }
 },
 "nbformat": 4,
 "nbformat_minor": 4
}
